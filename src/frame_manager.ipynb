{
 "cells": [
  {
   "cell_type": "code",
   "execution_count": 6,
   "metadata": {},
   "outputs": [
    {
     "name": "stderr",
     "output_type": "stream",
     "text": [
      "/Users/shlokagarwal/Library/Python/3.9/lib/python/site-packages/urllib3/__init__.py:34: NotOpenSSLWarning: urllib3 v2.0 only supports OpenSSL 1.1.1+, currently the 'ssl' module is compiled with 'LibreSSL 2.8.3'. See: https://github.com/urllib3/urllib3/issues/3020\n",
      "  warnings.warn(\n"
     ]
    },
    {
     "ename": "ModuleNotFoundError",
     "evalue": "No module named 'imageio'",
     "output_type": "error",
     "traceback": [
      "\u001b[0;31m---------------------------------------------------------------------------\u001b[0m",
      "\u001b[0;31mModuleNotFoundError\u001b[0m                       Traceback (most recent call last)",
      "\u001b[1;32m/Users/shlokagarwal/Desktop/Computer Vision /Novel_NeRF/src/frame_manager.ipynb Cell 1\u001b[0m line \u001b[0;36m9\n\u001b[1;32m      <a href='vscode-notebook-cell:/Users/shlokagarwal/Desktop/Computer%20Vision%20/Novel_NeRF/src/frame_manager.ipynb#W0sZmlsZQ%3D%3D?line=6'>7</a>\u001b[0m \u001b[39mimport\u001b[39;00m \u001b[39mnumpy\u001b[39;00m \u001b[39mas\u001b[39;00m \u001b[39mnp\u001b[39;00m\n\u001b[1;32m      <a href='vscode-notebook-cell:/Users/shlokagarwal/Desktop/Computer%20Vision%20/Novel_NeRF/src/frame_manager.ipynb#W0sZmlsZQ%3D%3D?line=7'>8</a>\u001b[0m \u001b[39mimport\u001b[39;00m \u001b[39mjson\u001b[39;00m\n\u001b[0;32m----> <a href='vscode-notebook-cell:/Users/shlokagarwal/Desktop/Computer%20Vision%20/Novel_NeRF/src/frame_manager.ipynb#W0sZmlsZQ%3D%3D?line=8'>9</a>\u001b[0m \u001b[39mimport\u001b[39;00m \u001b[39mimageio\u001b[39;00m\n\u001b[1;32m     <a href='vscode-notebook-cell:/Users/shlokagarwal/Desktop/Computer%20Vision%20/Novel_NeRF/src/frame_manager.ipynb#W0sZmlsZQ%3D%3D?line=9'>10</a>\u001b[0m \u001b[39m# Make sure to switch runtime to the GPU\u001b[39;00m\n\u001b[1;32m     <a href='vscode-notebook-cell:/Users/shlokagarwal/Desktop/Computer%20Vision%20/Novel_NeRF/src/frame_manager.ipynb#W0sZmlsZQ%3D%3D?line=10'>11</a>\u001b[0m \u001b[39mif\u001b[39;00m torch\u001b[39m.\u001b[39mcuda\u001b[39m.\u001b[39mis_available():\n",
      "\u001b[0;31mModuleNotFoundError\u001b[0m: No module named 'imageio'"
     ]
    }
   ],
   "source": [
    "import torch\n",
    "import os\n",
    "from torchvision import transforms, datasets\n",
    "import torch.nn as nn \n",
    "import torch.nn.functional as F\n",
    "import torch.optim as optim\n",
    "import matplotlib.pyplot as plt\n",
    "import numpy as np\n",
    "import json\n",
    "import imageio\n",
    "# Make sure to switch runtime to the GPU\n",
    "if torch.cuda.is_available():\n",
    "    device = torch.device(\"cuda:0\")\n",
    "    print(\"Running on the GPU\")\n",
    "else:\n",
    "    device = torch.device(\"cpu\")\n",
    "    print(\"Running on the CPU\")\n"
   ]
  },
  {
   "cell_type": "code",
   "execution_count": 1,
   "metadata": {},
   "outputs": [
    {
     "ename": "IndentationError",
     "evalue": "expected an indented block (3026848341.py, line 13)",
     "output_type": "error",
     "traceback": [
      "\u001b[0;36m  Cell \u001b[0;32mIn[1], line 13\u001b[0;36m\u001b[0m\n\u001b[0;31m    class Frame:\u001b[0m\n\u001b[0m                ^\u001b[0m\n\u001b[0;31mIndentationError\u001b[0m\u001b[0;31m:\u001b[0m expected an indented block\n"
     ]
    }
   ],
   "source": [
    "# Write a class to read in the image frame and store all the data related to it \n",
    "class FrameManager:\n",
    "    def __init__(self):\n",
    "        self.test_frames = []\n",
    "        self.train_frames = []\n",
    "        self.val_frames = []\n",
    "    \n",
    "    def read_frames(self, path):\n",
    "        cfgs = ['transforms_test.json', 'transforms_train.json', 'transforms_val.json']\n",
    "        data_cfg = {}\n",
    "        for i, cfg in enumerate(cfgs):\n",
    "            with open(os.path.join(path, cfg)) as json_file:\n",
    "                data_cfg[i] = json.load(json_file)\n",
    "        \n",
    "        for i in range(3):\n",
    "            data = data_cfg[i]\n",
    "            frms = []\n",
    "            for frame in data[\"frames\"]:\n",
    "                img_file = os.path.join(basedir, frame['file_path'] + '.png')\n",
    "                new_frame = Frame()\n",
    "                new_frame.img = imageio.imread(img_file)\n",
    "                new_frame.pose = np.array(frame['transform_matrix'])\n",
    "                frms.append(new_frame)\n",
    "            if i == 0:\n",
    "                self.test_frames = frms\n",
    "            elif i == 1:\n",
    "                self.train_frames = frms\n",
    "            else:\n",
    "                self.val_frames = frms\n",
    "\n",
    "\n",
    "class Frame:\n",
    "    def __init__(self, image, pose):\n",
    "        self.img = image\n",
    "        self.pose = pose\n",
    "\n",
    "        \n"
   ]
  }
 ],
 "metadata": {
  "kernelspec": {
   "display_name": "Python 3",
   "language": "python",
   "name": "python3"
  },
  "language_info": {
   "codemirror_mode": {
    "name": "ipython",
    "version": 3
   },
   "file_extension": ".py",
   "mimetype": "text/x-python",
   "name": "python",
   "nbconvert_exporter": "python",
   "pygments_lexer": "ipython3",
   "version": "3.9.6"
  }
 },
 "nbformat": 4,
 "nbformat_minor": 2
}
